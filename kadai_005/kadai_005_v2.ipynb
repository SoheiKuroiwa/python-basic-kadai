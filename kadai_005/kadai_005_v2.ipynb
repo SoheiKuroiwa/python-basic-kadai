{
  "nbformat": 4,
  "nbformat_minor": 0,
  "metadata": {
    "colab": {
      "provenance": []
    },
    "kernelspec": {
      "name": "python3",
      "display_name": "Python 3"
    },
    "language_info": {
      "name": "python"
    }
  },
  "cells": [
    {
      "cell_type": "code",
      "execution_count": 3,
      "metadata": {
        "colab": {
          "base_uri": "https://localhost:8080/"
        },
        "id": "7EmaGz2QaN7Y",
        "outputId": "ba73ec6b-3cbb-48f2-f158-204e3edb4e76"
      },
      "outputs": [
        {
          "output_type": "stream",
          "name": "stdout",
          "text": [
            "75.0cm²\n"
          ]
        }
      ],
      "source": [
        "top = 10\n",
        "bottom = 20\n",
        "height = 5\n",
        "calc = (top + bottom) * height / 2\n",
        "\n",
        "print(str(calc) + \"cm²\")"
      ]
    },
    {
      "cell_type": "code",
      "source": [],
      "metadata": {
        "id": "pHuhj8u3d7vo"
      },
      "execution_count": null,
      "outputs": []
    }
  ]
}