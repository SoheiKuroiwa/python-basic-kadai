{
  "nbformat": 4,
  "nbformat_minor": 0,
  "metadata": {
    "colab": {
      "provenance": []
    },
    "kernelspec": {
      "name": "python3",
      "display_name": "Python 3"
    },
    "language_info": {
      "name": "python"
    }
  },
  "cells": [
    {
      "cell_type": "code",
      "execution_count": 2,
      "metadata": {
        "colab": {
          "base_uri": "https://localhost:8080/"
        },
        "id": "3eta4fHNpw9h",
        "outputId": "a85a99c3-0eb5-4b61-f5f1-1d4f6ae87baa"
      },
      "outputs": [
        {
          "output_type": "stream",
          "name": "stdout",
          "text": [
            "121.0\n"
          ]
        }
      ],
      "source": [
        "def add_two_arguments(price, tax):\n",
        "  return price + price * (tax / 100)\n",
        "\n",
        "print(add_two_arguments(110, 10))"
      ]
    },
    {
      "cell_type": "code",
      "source": [],
      "metadata": {
        "id": "3IQfbEs_px6t"
      },
      "execution_count": null,
      "outputs": []
    }
  ]
}