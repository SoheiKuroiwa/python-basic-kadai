{
  "nbformat": 4,
  "nbformat_minor": 0,
  "metadata": {
    "colab": {
      "provenance": []
    },
    "kernelspec": {
      "name": "python3",
      "display_name": "Python 3"
    },
    "language_info": {
      "name": "python"
    }
  },
  "cells": [
    {
      "cell_type": "code",
      "execution_count": 1,
      "metadata": {
        "colab": {
          "base_uri": "https://localhost:8080/"
        },
        "id": "U0fmGSpLsBF9",
        "outputId": "519440fb-946a-4f06-fdf0-68612668a0d8"
      },
      "outputs": [
        {
          "output_type": "stream",
          "name": "stdout",
          "text": [
            "侍太郎さんは大人です。\n",
            "侍一郎さんは大人です。\n",
            "侍二郎さんは大人ではありません。\n"
          ]
        }
      ],
      "source": [
        "class Human:\n",
        "  def __init__(self, name, age):\n",
        "      self.name = name\n",
        "      self.age = age\n",
        "\n",
        "  def check_adult(self):\n",
        "      if self.age >= 20:\n",
        "          print(f\"{self.name}さんは大人です。\")\n",
        "      else:\n",
        "          print(f\"{self.name}さんは大人ではありません。\")\n",
        "\n",
        "# リストの中に、Humanクラスのインスタンスを直接作成して格納する\n",
        "human_list = [Human(\"侍太郎\", 36), Human(\"侍一郎\", 20), Human(\"侍二郎\", 18)]\n",
        "\n",
        "# 繰り返し処理\n",
        "for person in human_list:\n",
        "  person.check_adult()"
      ]
    }
  ]
}